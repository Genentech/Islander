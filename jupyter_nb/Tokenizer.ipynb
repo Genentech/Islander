{
 "cells": [
  {
   "cell_type": "code",
   "execution_count": 1,
   "id": "279964df-65b9-4c26-ad0a-3875f773ee1a",
   "metadata": {},
   "outputs": [],
   "source": [
    "import os, pandas as pd, scanpy as sc, numpy as np, warnings\n",
    "from geneformer import TranscriptomeTokenizer, EmbExtractor\n",
    "warnings.filterwarnings('ignore', category=FutureWarning)\n",
    "warnings.filterwarnings('ignore', category=UserWarning)"
   ]
  },
  {
   "cell_type": "code",
   "execution_count": null,
   "id": "ce3ca770-d7b6-44e4-b001-0d1e25b4134c",
   "metadata": {},
   "outputs": [],
   "source": [
    "min_cells: 5; min_genes: 500; min_counts: 1000"
   ]
  },
  {
   "cell_type": "code",
   "execution_count": 2,
   "id": "eb6680d1-f57d-4776-88dd-236c1591231e",
   "metadata": {},
   "outputs": [],
   "source": [
    "def preprocess(adata, top_n_cells=100, min_cells=5, min_genes=500, min_counts=1000):\n",
    "    # Sanity Check\n",
    "    subset = adata.X[:, :top_n_cells].toarray()\n",
    "    non_negative = np.all(subset >= 0)\n",
    "    integer_values = np.all(subset.astype(int) == subset)\n",
    "    assert non_negative and integer_values\n",
    "\n",
    "    # Quality Control\n",
    "    sc.pp.filter_cells(adata, min_counts=min_counts)\n",
    "    sc.pp.filter_cells(adata, min_genes=min_genes)\n",
    "    sc.pp.filter_genes(adata, min_cells=min_cells)\n",
    "    print(\"=\" * 77)\n",
    "    print(rf\"{adata.n_vars} genes x {adata.n_obs} cells after quality control.\")\n",
    "    print(\"=\" * 77)\n",
    "    return adata"
   ]
  },
  {
   "cell_type": "markdown",
   "id": "c88b2951-7989-4f7f-b71d-388bdd6379ed",
   "metadata": {},
   "source": [
    "### Heart -> Eye -> gut_fetal -> lung -> skin -> lung_fetal_organoid -> lung_fetal_donor -> brain -> breast"
   ]
  },
  {
   "cell_type": "code",
   "execution_count": 21,
   "id": "e761c6b0-1127-43db-ac49-9b16b57cc8b3",
   "metadata": {},
   "outputs": [
    {
     "data": {
      "text/plain": [
       "AnnData object with n_obs × n_vars = 888263 × 59357\n",
       "    obs: 'ROIGroup', 'ROIGroupCoarse', 'ROIGroupFine', 'roi', 'organism_ontology_term_id', 'disease_ontology_term_id', 'self_reported_ethnicity_ontology_term_id', 'assay_ontology_term_id', 'sex_ontology_term_id', 'development_stage_ontology_term_id', 'donor_id', 'suspension_type', 'dissection', 'fraction_mitochondrial', 'fraction_unspliced', 'cell_cycle_score', 'total_genes', 'total_UMIs', 'sample_id', 'supercluster_term', 'cluster_id', 'subcluster_id', 'cell_type_ontology_term_id', 'tissue_ontology_term_id', 'is_primary_data', 'cell_type', 'assay', 'disease', 'organism', 'sex', 'tissue', 'self_reported_ethnicity', 'development_stage'\n",
       "    var: 'Biotype', 'Chromosome', 'End', 'Gene', 'Start', 'feature_is_filtered', 'feature_name', 'feature_reference', 'feature_biotype'\n",
       "    uns: 'batch_condition', 'schema_version', 'title'\n",
       "    obsm: 'X_UMAP', 'X_tSNE'"
      ]
     },
     "execution_count": 21,
     "metadata": {},
     "output_type": "execute_result"
    }
   ],
   "source": [
    "dataset = \"brain\"\n",
    "DATA_DIR = \"/home/wangh256/G-scIB_dev/data/%s/\" % dataset\n",
    "\n",
    "# adata = sc.read_h5ad(rf\"{DATA_DIR}/emb.h5ad\")\n",
    "adata = sc.read_h5ad(rf\"{DATA_DIR}/local.h5ad\")\n",
    "# adata = sc.read_h5ad(rf\"{DATA_DIR}/organoid.h5ad\")\n",
    "# adata = sc.read_h5ad(rf\"{DATA_DIR}/donor.h5ad\")\n",
    "adata"
   ]
  },
  {
   "cell_type": "code",
   "execution_count": 22,
   "id": "e4fe1d66-c58f-4226-905a-eca94a624032",
   "metadata": {},
   "outputs": [
    {
     "name": "stdout",
     "output_type": "stream",
     "text": [
      "=============================================================================\n",
      "42079 genes x 839273 cells after quality control.\n",
      "=============================================================================\n"
     ]
    }
   ],
   "source": [
    "# adata.X = adata.raw.X\n",
    "# del adata.raw\n",
    "adata = preprocess(adata, min_genes=1000) # only for brain, my bad"
   ]
  },
  {
   "cell_type": "code",
   "execution_count": 20,
   "id": "d5d880fe-5a45-4de9-a186-3c14351bb8ee",
   "metadata": {
    "scrolled": true
   },
   "outputs": [
    {
     "name": "stdout",
     "output_type": "stream",
     "text": [
      "min_cells: 5; min_genes: 500; min_counts: 1000\n",
      "=============================================================================\n",
      "42135 genes x 885790 cells after quality control.\n",
      "=============================================================================\n",
      "\n",
      "\n",
      "\n",
      "min_cells: 5; min_genes: 500; min_counts: 5000\n",
      "=============================================================================\n",
      "40843 genes x 345182 cells after quality control.\n",
      "=============================================================================\n",
      "\n",
      "\n",
      "\n",
      "min_cells: 5; min_genes: 1000; min_counts: 1000\n",
      "=============================================================================\n",
      "42079 genes x 839273 cells after quality control.\n",
      "=============================================================================\n",
      "\n",
      "\n",
      "\n",
      "min_cells: 5; min_genes: 1000; min_counts: 5000\n",
      "=============================================================================\n",
      "40843 genes x 345182 cells after quality control.\n",
      "=============================================================================\n",
      "\n",
      "\n",
      "\n",
      "min_cells: 10; min_genes: 500; min_counts: 1000\n",
      "=============================================================================\n",
      "40114 genes x 885790 cells after quality control.\n",
      "=============================================================================\n",
      "\n",
      "\n",
      "\n",
      "min_cells: 10; min_genes: 500; min_counts: 5000\n",
      "=============================================================================\n",
      "38772 genes x 345182 cells after quality control.\n",
      "=============================================================================\n",
      "\n",
      "\n",
      "\n",
      "min_cells: 10; min_genes: 1000; min_counts: 1000\n",
      "=============================================================================\n",
      "40068 genes x 839273 cells after quality control.\n",
      "=============================================================================\n",
      "\n",
      "\n",
      "\n",
      "min_cells: 10; min_genes: 1000; min_counts: 5000\n",
      "=============================================================================\n",
      "38772 genes x 345182 cells after quality control.\n",
      "=============================================================================\n",
      "\n",
      "\n",
      "\n",
      "min_cells: 100; min_genes: 500; min_counts: 1000\n",
      "=============================================================================\n",
      "32851 genes x 885790 cells after quality control.\n",
      "=============================================================================\n",
      "\n",
      "\n",
      "\n",
      "min_cells: 100; min_genes: 500; min_counts: 5000\n"
     ]
    },
    {
     "ename": "KeyboardInterrupt",
     "evalue": "",
     "output_type": "error",
     "traceback": [
      "\u001b[0;31m---------------------------------------------------------------------------\u001b[0m",
      "\u001b[0;31mKeyboardInterrupt\u001b[0m                         Traceback (most recent call last)",
      "Cell \u001b[0;32mIn[20], line 6\u001b[0m\n\u001b[1;32m      4\u001b[0m \u001b[38;5;28mprint\u001b[39m(\u001b[38;5;124mrf\u001b[39m\u001b[38;5;124m\"\u001b[39m\u001b[38;5;124mmin_cells: \u001b[39m\u001b[38;5;132;01m{\u001b[39;00mmin_cells\u001b[38;5;132;01m}\u001b[39;00m\u001b[38;5;124m; min_genes: \u001b[39m\u001b[38;5;132;01m{\u001b[39;00mmin_genes\u001b[38;5;132;01m}\u001b[39;00m\u001b[38;5;124m; min_counts: \u001b[39m\u001b[38;5;132;01m{\u001b[39;00mmin_counts\u001b[38;5;132;01m}\u001b[39;00m\u001b[38;5;124m\"\u001b[39m)\n\u001b[1;32m      5\u001b[0m adata \u001b[38;5;241m=\u001b[39m sc\u001b[38;5;241m.\u001b[39mread_h5ad(\u001b[38;5;124mrf\u001b[39m\u001b[38;5;124m\"\u001b[39m\u001b[38;5;132;01m{\u001b[39;00mDATA_DIR\u001b[38;5;132;01m}\u001b[39;00m\u001b[38;5;124m/local.h5ad\u001b[39m\u001b[38;5;124m\"\u001b[39m)\n\u001b[0;32m----> 6\u001b[0m _ \u001b[38;5;241m=\u001b[39m \u001b[43mpreprocess\u001b[49m\u001b[43m(\u001b[49m\u001b[43madata\u001b[49m\u001b[43m,\u001b[49m\u001b[43m \u001b[49m\u001b[43mmin_cells\u001b[49m\u001b[38;5;241;43m=\u001b[39;49m\u001b[43mmin_cells\u001b[49m\u001b[43m,\u001b[49m\u001b[43m \u001b[49m\u001b[43mmin_genes\u001b[49m\u001b[38;5;241;43m=\u001b[39;49m\u001b[43mmin_genes\u001b[49m\u001b[43m,\u001b[49m\u001b[43m \u001b[49m\u001b[43mmin_counts\u001b[49m\u001b[38;5;241;43m=\u001b[39;49m\u001b[43mmin_counts\u001b[49m\u001b[43m)\u001b[49m\n\u001b[1;32m      7\u001b[0m \u001b[38;5;28mprint\u001b[39m(\u001b[38;5;124m\"\u001b[39m\u001b[38;5;130;01m\\n\u001b[39;00m\u001b[38;5;130;01m\\n\u001b[39;00m\u001b[38;5;124m\"\u001b[39m)\n",
      "Cell \u001b[0;32mIn[2], line 9\u001b[0m, in \u001b[0;36mpreprocess\u001b[0;34m(adata, top_n_cells, min_cells, min_genes, min_counts)\u001b[0m\n\u001b[1;32m      6\u001b[0m \u001b[38;5;28;01massert\u001b[39;00m non_negative \u001b[38;5;129;01mand\u001b[39;00m integer_values\n\u001b[1;32m      8\u001b[0m \u001b[38;5;66;03m# Quality Control\u001b[39;00m\n\u001b[0;32m----> 9\u001b[0m \u001b[43msc\u001b[49m\u001b[38;5;241;43m.\u001b[39;49m\u001b[43mpp\u001b[49m\u001b[38;5;241;43m.\u001b[39;49m\u001b[43mfilter_cells\u001b[49m\u001b[43m(\u001b[49m\u001b[43madata\u001b[49m\u001b[43m,\u001b[49m\u001b[43m \u001b[49m\u001b[43mmin_counts\u001b[49m\u001b[38;5;241;43m=\u001b[39;49m\u001b[43mmin_counts\u001b[49m\u001b[43m)\u001b[49m\n\u001b[1;32m     10\u001b[0m sc\u001b[38;5;241m.\u001b[39mpp\u001b[38;5;241m.\u001b[39mfilter_cells(adata, min_genes\u001b[38;5;241m=\u001b[39mmin_genes)\n\u001b[1;32m     11\u001b[0m sc\u001b[38;5;241m.\u001b[39mpp\u001b[38;5;241m.\u001b[39mfilter_genes(adata, min_cells\u001b[38;5;241m=\u001b[39mmin_cells)\n",
      "File \u001b[0;32m~/anaconda3/envs/Geneformer/lib/python3.10/site-packages/scanpy/preprocessing/_simple.py:140\u001b[0m, in \u001b[0;36mfilter_cells\u001b[0;34m(data, min_counts, min_genes, max_counts, max_genes, inplace, copy)\u001b[0m\n\u001b[1;32m    138\u001b[0m     \u001b[38;5;28;01melse\u001b[39;00m:\n\u001b[1;32m    139\u001b[0m         adata\u001b[38;5;241m.\u001b[39mobs[\u001b[38;5;124m'\u001b[39m\u001b[38;5;124mn_genes\u001b[39m\u001b[38;5;124m'\u001b[39m] \u001b[38;5;241m=\u001b[39m number\n\u001b[0;32m--> 140\u001b[0m     \u001b[43madata\u001b[49m\u001b[38;5;241;43m.\u001b[39;49m\u001b[43m_inplace_subset_obs\u001b[49m\u001b[43m(\u001b[49m\u001b[43mcell_subset\u001b[49m\u001b[43m)\u001b[49m\n\u001b[1;32m    141\u001b[0m     \u001b[38;5;28;01mreturn\u001b[39;00m adata \u001b[38;5;28;01mif\u001b[39;00m copy \u001b[38;5;28;01melse\u001b[39;00m \u001b[38;5;28;01mNone\u001b[39;00m\n\u001b[1;32m    142\u001b[0m X \u001b[38;5;241m=\u001b[39m data  \u001b[38;5;66;03m# proceed with processing the data matrix\u001b[39;00m\n",
      "File \u001b[0;32m~/anaconda3/envs/Geneformer/lib/python3.10/site-packages/anndata/_core/anndata.py:1250\u001b[0m, in \u001b[0;36mAnnData._inplace_subset_obs\u001b[0;34m(self, index)\u001b[0m\n\u001b[1;32m   1244\u001b[0m \u001b[38;5;28;01mdef\u001b[39;00m \u001b[38;5;21m_inplace_subset_obs\u001b[39m(\u001b[38;5;28mself\u001b[39m, index: Index1D):\n\u001b[1;32m   1245\u001b[0m \u001b[38;5;250m    \u001b[39m\u001b[38;5;124;03m\"\"\"\\\u001b[39;00m\n\u001b[1;32m   1246\u001b[0m \u001b[38;5;124;03m    Inplace subsetting along variables dimension.\u001b[39;00m\n\u001b[1;32m   1247\u001b[0m \n\u001b[1;32m   1248\u001b[0m \u001b[38;5;124;03m    Same as `adata = adata[index, :]`, but inplace.\u001b[39;00m\n\u001b[1;32m   1249\u001b[0m \u001b[38;5;124;03m    \"\"\"\u001b[39;00m\n\u001b[0;32m-> 1250\u001b[0m     adata_subset \u001b[38;5;241m=\u001b[39m \u001b[38;5;28;43mself\u001b[39;49m\u001b[43m[\u001b[49m\u001b[43mindex\u001b[49m\u001b[43m]\u001b[49m\u001b[38;5;241;43m.\u001b[39;49m\u001b[43mcopy\u001b[49m\u001b[43m(\u001b[49m\u001b[43m)\u001b[49m\n\u001b[1;32m   1251\u001b[0m     \u001b[38;5;28mself\u001b[39m\u001b[38;5;241m.\u001b[39m_init_as_actual(adata_subset)\n",
      "File \u001b[0;32m~/anaconda3/envs/Geneformer/lib/python3.10/site-packages/anndata/_core/anndata.py:1522\u001b[0m, in \u001b[0;36mAnnData.copy\u001b[0;34m(self, filename)\u001b[0m\n\u001b[1;32m   1515\u001b[0m \u001b[38;5;28;01mif\u001b[39;00m \u001b[38;5;129;01mnot\u001b[39;00m \u001b[38;5;28mself\u001b[39m\u001b[38;5;241m.\u001b[39misbacked:\n\u001b[1;32m   1516\u001b[0m     \u001b[38;5;28;01mif\u001b[39;00m \u001b[38;5;28mself\u001b[39m\u001b[38;5;241m.\u001b[39mis_view \u001b[38;5;129;01mand\u001b[39;00m \u001b[38;5;28mself\u001b[39m\u001b[38;5;241m.\u001b[39m_has_X():\n\u001b[1;32m   1517\u001b[0m         \u001b[38;5;66;03m# TODO: How do I unambiguously check if this is a copy?\u001b[39;00m\n\u001b[1;32m   1518\u001b[0m         \u001b[38;5;66;03m# Subsetting this way means we don’t have to have a view type\u001b[39;00m\n\u001b[1;32m   1519\u001b[0m         \u001b[38;5;66;03m# defined for the matrix, which is needed for some of the\u001b[39;00m\n\u001b[1;32m   1520\u001b[0m         \u001b[38;5;66;03m# current distributed backend. Specifically Dask.\u001b[39;00m\n\u001b[1;32m   1521\u001b[0m         \u001b[38;5;28;01mreturn\u001b[39;00m \u001b[38;5;28mself\u001b[39m\u001b[38;5;241m.\u001b[39m_mutated_copy(\n\u001b[0;32m-> 1522\u001b[0m             X\u001b[38;5;241m=\u001b[39m\u001b[43m_subset\u001b[49m\u001b[43m(\u001b[49m\u001b[38;5;28;43mself\u001b[39;49m\u001b[38;5;241;43m.\u001b[39;49m\u001b[43m_adata_ref\u001b[49m\u001b[38;5;241;43m.\u001b[39;49m\u001b[43mX\u001b[49m\u001b[43m,\u001b[49m\u001b[43m \u001b[49m\u001b[43m(\u001b[49m\u001b[38;5;28;43mself\u001b[39;49m\u001b[38;5;241;43m.\u001b[39;49m\u001b[43m_oidx\u001b[49m\u001b[43m,\u001b[49m\u001b[43m \u001b[49m\u001b[38;5;28;43mself\u001b[39;49m\u001b[38;5;241;43m.\u001b[39;49m\u001b[43m_vidx\u001b[49m\u001b[43m)\u001b[49m\u001b[43m)\u001b[49m\u001b[38;5;241;43m.\u001b[39;49m\u001b[43mcopy\u001b[49m\u001b[43m(\u001b[49m\u001b[43m)\u001b[49m\n\u001b[1;32m   1523\u001b[0m         )\n\u001b[1;32m   1524\u001b[0m     \u001b[38;5;28;01melse\u001b[39;00m:\n\u001b[1;32m   1525\u001b[0m         \u001b[38;5;28;01mreturn\u001b[39;00m \u001b[38;5;28mself\u001b[39m\u001b[38;5;241m.\u001b[39m_mutated_copy()\n",
      "File \u001b[0;32m~/anaconda3/envs/Geneformer/lib/python3.10/site-packages/scipy/sparse/_data.py:94\u001b[0m, in \u001b[0;36m_data_matrix.copy\u001b[0;34m(self)\u001b[0m\n\u001b[1;32m     93\u001b[0m \u001b[38;5;28;01mdef\u001b[39;00m \u001b[38;5;21mcopy\u001b[39m(\u001b[38;5;28mself\u001b[39m):\n\u001b[0;32m---> 94\u001b[0m     \u001b[38;5;28;01mreturn\u001b[39;00m \u001b[38;5;28;43mself\u001b[39;49m\u001b[38;5;241;43m.\u001b[39;49m\u001b[43m_with_data\u001b[49m\u001b[43m(\u001b[49m\u001b[38;5;28;43mself\u001b[39;49m\u001b[38;5;241;43m.\u001b[39;49m\u001b[43mdata\u001b[49m\u001b[38;5;241;43m.\u001b[39;49m\u001b[43mcopy\u001b[49m\u001b[43m(\u001b[49m\u001b[43m)\u001b[49m\u001b[43m,\u001b[49m\u001b[43m \u001b[49m\u001b[43mcopy\u001b[49m\u001b[38;5;241;43m=\u001b[39;49m\u001b[38;5;28;43;01mTrue\u001b[39;49;00m\u001b[43m)\u001b[49m\n",
      "File \u001b[0;32m~/anaconda3/envs/Geneformer/lib/python3.10/site-packages/scipy/sparse/_compressed.py:1229\u001b[0m, in \u001b[0;36m_cs_matrix._with_data\u001b[0;34m(self, data, copy)\u001b[0m\n\u001b[1;32m   1224\u001b[0m \u001b[38;5;250m\u001b[39m\u001b[38;5;124;03m\"\"\"Returns a matrix with the same sparsity structure as self,\u001b[39;00m\n\u001b[1;32m   1225\u001b[0m \u001b[38;5;124;03mbut with different data.  By default the structure arrays\u001b[39;00m\n\u001b[1;32m   1226\u001b[0m \u001b[38;5;124;03m(i.e. .indptr and .indices) are copied.\u001b[39;00m\n\u001b[1;32m   1227\u001b[0m \u001b[38;5;124;03m\"\"\"\u001b[39;00m\n\u001b[1;32m   1228\u001b[0m \u001b[38;5;28;01mif\u001b[39;00m copy:\n\u001b[0;32m-> 1229\u001b[0m     \u001b[38;5;28;01mreturn\u001b[39;00m \u001b[38;5;28mself\u001b[39m\u001b[38;5;241m.\u001b[39m\u001b[38;5;18m__class__\u001b[39m((data, \u001b[38;5;28;43mself\u001b[39;49m\u001b[38;5;241;43m.\u001b[39;49m\u001b[43mindices\u001b[49m\u001b[38;5;241;43m.\u001b[39;49m\u001b[43mcopy\u001b[49m\u001b[43m(\u001b[49m\u001b[43m)\u001b[49m,\n\u001b[1;32m   1230\u001b[0m                            \u001b[38;5;28mself\u001b[39m\u001b[38;5;241m.\u001b[39mindptr\u001b[38;5;241m.\u001b[39mcopy()),\n\u001b[1;32m   1231\u001b[0m                           shape\u001b[38;5;241m=\u001b[39m\u001b[38;5;28mself\u001b[39m\u001b[38;5;241m.\u001b[39mshape,\n\u001b[1;32m   1232\u001b[0m                           dtype\u001b[38;5;241m=\u001b[39mdata\u001b[38;5;241m.\u001b[39mdtype)\n\u001b[1;32m   1233\u001b[0m \u001b[38;5;28;01melse\u001b[39;00m:\n\u001b[1;32m   1234\u001b[0m     \u001b[38;5;28;01mreturn\u001b[39;00m \u001b[38;5;28mself\u001b[39m\u001b[38;5;241m.\u001b[39m\u001b[38;5;18m__class__\u001b[39m((data, \u001b[38;5;28mself\u001b[39m\u001b[38;5;241m.\u001b[39mindices, \u001b[38;5;28mself\u001b[39m\u001b[38;5;241m.\u001b[39mindptr),\n\u001b[1;32m   1235\u001b[0m                           shape\u001b[38;5;241m=\u001b[39m\u001b[38;5;28mself\u001b[39m\u001b[38;5;241m.\u001b[39mshape, dtype\u001b[38;5;241m=\u001b[39mdata\u001b[38;5;241m.\u001b[39mdtype)\n",
      "\u001b[0;31mKeyboardInterrupt\u001b[0m: "
     ]
    }
   ],
   "source": [
    "for min_cells in [5, 10, 100]:\n",
    "    for min_genes in [500, 1000]:\n",
    "        for min_counts in [1000, 5000]:\n",
    "            print(rf\"min_cells: {min_cells}; min_genes: {min_genes}; min_counts: {min_counts}\")\n",
    "            adata = sc.read_h5ad(rf\"{DATA_DIR}/local.h5ad\")\n",
    "            _ = preprocess(adata, min_cells=min_cells, min_genes=min_genes, min_counts=min_counts)\n",
    "            print(\"\\n\\n\")"
   ]
  },
  {
   "cell_type": "code",
   "execution_count": 23,
   "id": "ad0e54c8-fb4e-42cf-a5e2-ca725b550b71",
   "metadata": {},
   "outputs": [
    {
     "data": {
      "text/html": [
       "<div>\n",
       "<style scoped>\n",
       "    .dataframe tbody tr th:only-of-type {\n",
       "        vertical-align: middle;\n",
       "    }\n",
       "\n",
       "    .dataframe tbody tr th {\n",
       "        vertical-align: top;\n",
       "    }\n",
       "\n",
       "    .dataframe thead th {\n",
       "        text-align: right;\n",
       "    }\n",
       "</style>\n",
       "<table border=\"1\" class=\"dataframe\">\n",
       "  <thead>\n",
       "    <tr style=\"text-align: right;\">\n",
       "      <th></th>\n",
       "      <th>Biotype</th>\n",
       "      <th>Chromosome</th>\n",
       "      <th>End</th>\n",
       "      <th>Gene</th>\n",
       "      <th>Start</th>\n",
       "      <th>feature_is_filtered</th>\n",
       "      <th>feature_name</th>\n",
       "      <th>feature_reference</th>\n",
       "      <th>feature_biotype</th>\n",
       "      <th>n_cells</th>\n",
       "    </tr>\n",
       "    <tr>\n",
       "      <th>ensembl_ids</th>\n",
       "      <th></th>\n",
       "      <th></th>\n",
       "      <th></th>\n",
       "      <th></th>\n",
       "      <th></th>\n",
       "      <th></th>\n",
       "      <th></th>\n",
       "      <th></th>\n",
       "      <th></th>\n",
       "      <th></th>\n",
       "    </tr>\n",
       "  </thead>\n",
       "  <tbody>\n",
       "    <tr>\n",
       "      <th>ENSG00000000003</th>\n",
       "      <td>n/a</td>\n",
       "      <td>chrX</td>\n",
       "      <td>100639991</td>\n",
       "      <td>TSPAN6</td>\n",
       "      <td>100627108</td>\n",
       "      <td>False</td>\n",
       "      <td>TSPAN6</td>\n",
       "      <td>NCBITaxon:9606</td>\n",
       "      <td>gene</td>\n",
       "      <td>30075</td>\n",
       "    </tr>\n",
       "    <tr>\n",
       "      <th>ENSG00000000005</th>\n",
       "      <td>n/a</td>\n",
       "      <td>chrX</td>\n",
       "      <td>100599885</td>\n",
       "      <td>TNMD</td>\n",
       "      <td>100584936</td>\n",
       "      <td>False</td>\n",
       "      <td>TNMD</td>\n",
       "      <td>NCBITaxon:9606</td>\n",
       "      <td>gene</td>\n",
       "      <td>485</td>\n",
       "    </tr>\n",
       "    <tr>\n",
       "      <th>ENSG00000000419</th>\n",
       "      <td>n/a</td>\n",
       "      <td>chr20</td>\n",
       "      <td>50958555</td>\n",
       "      <td>DPM1</td>\n",
       "      <td>50934867</td>\n",
       "      <td>False</td>\n",
       "      <td>DPM1</td>\n",
       "      <td>NCBITaxon:9606</td>\n",
       "      <td>gene</td>\n",
       "      <td>129625</td>\n",
       "    </tr>\n",
       "    <tr>\n",
       "      <th>ENSG00000000457</th>\n",
       "      <td>n/a</td>\n",
       "      <td>chr1</td>\n",
       "      <td>169894267</td>\n",
       "      <td>SCYL3</td>\n",
       "      <td>169849631</td>\n",
       "      <td>False</td>\n",
       "      <td>SCYL3</td>\n",
       "      <td>NCBITaxon:9606</td>\n",
       "      <td>gene</td>\n",
       "      <td>97314</td>\n",
       "    </tr>\n",
       "    <tr>\n",
       "      <th>ENSG00000000460</th>\n",
       "      <td>n/a</td>\n",
       "      <td>chr1</td>\n",
       "      <td>169854080</td>\n",
       "      <td>C1orf112</td>\n",
       "      <td>169662007</td>\n",
       "      <td>False</td>\n",
       "      <td>C1orf112</td>\n",
       "      <td>NCBITaxon:9606</td>\n",
       "      <td>gene</td>\n",
       "      <td>82343</td>\n",
       "    </tr>\n",
       "    <tr>\n",
       "      <th>...</th>\n",
       "      <td>...</td>\n",
       "      <td>...</td>\n",
       "      <td>...</td>\n",
       "      <td>...</td>\n",
       "      <td>...</td>\n",
       "      <td>...</td>\n",
       "      <td>...</td>\n",
       "      <td>...</td>\n",
       "      <td>...</td>\n",
       "      <td>...</td>\n",
       "    </tr>\n",
       "    <tr>\n",
       "      <th>ENSG00000288611</th>\n",
       "      <td>n/a</td>\n",
       "      <td>chr8</td>\n",
       "      <td>52943734</td>\n",
       "      <td>NPBWR1</td>\n",
       "      <td>52939182</td>\n",
       "      <td>False</td>\n",
       "      <td>NPBWR1</td>\n",
       "      <td>NCBITaxon:9606</td>\n",
       "      <td>gene</td>\n",
       "      <td>144</td>\n",
       "    </tr>\n",
       "    <tr>\n",
       "      <th>ENSG00000288612</th>\n",
       "      <td>n/a</td>\n",
       "      <td>chr6</td>\n",
       "      <td>3027426</td>\n",
       "      <td>AL133351.4</td>\n",
       "      <td>3023472</td>\n",
       "      <td>False</td>\n",
       "      <td>RP1-90J20.15</td>\n",
       "      <td>NCBITaxon:9606</td>\n",
       "      <td>gene</td>\n",
       "      <td>15576</td>\n",
       "    </tr>\n",
       "    <tr>\n",
       "      <th>ENSG00000288632</th>\n",
       "      <td>n/a</td>\n",
       "      <td>chr16</td>\n",
       "      <td>29613717</td>\n",
       "      <td>AC133555.6</td>\n",
       "      <td>29442917</td>\n",
       "      <td>False</td>\n",
       "      <td>RP11-345J4.11</td>\n",
       "      <td>NCBITaxon:9606</td>\n",
       "      <td>gene</td>\n",
       "      <td>77888</td>\n",
       "    </tr>\n",
       "    <tr>\n",
       "      <th>ENSG00000288642</th>\n",
       "      <td>n/a</td>\n",
       "      <td>chrX</td>\n",
       "      <td>140784366</td>\n",
       "      <td>CDR1</td>\n",
       "      <td>140783578</td>\n",
       "      <td>False</td>\n",
       "      <td>CDR1</td>\n",
       "      <td>NCBITaxon:9606</td>\n",
       "      <td>gene</td>\n",
       "      <td>2092</td>\n",
       "    </tr>\n",
       "    <tr>\n",
       "      <th>ENSG00000288643</th>\n",
       "      <td>n/a</td>\n",
       "      <td>chr5</td>\n",
       "      <td>62537249</td>\n",
       "      <td>AC114982.3</td>\n",
       "      <td>62306206</td>\n",
       "      <td>False</td>\n",
       "      <td>RP11-95I19.4</td>\n",
       "      <td>NCBITaxon:9606</td>\n",
       "      <td>gene</td>\n",
       "      <td>9401</td>\n",
       "    </tr>\n",
       "  </tbody>\n",
       "</table>\n",
       "<p>42079 rows × 10 columns</p>\n",
       "</div>"
      ],
      "text/plain": [
       "                Biotype Chromosome        End        Gene      Start  \\\n",
       "ensembl_ids                                                            \n",
       "ENSG00000000003     n/a       chrX  100639991      TSPAN6  100627108   \n",
       "ENSG00000000005     n/a       chrX  100599885        TNMD  100584936   \n",
       "ENSG00000000419     n/a      chr20   50958555        DPM1   50934867   \n",
       "ENSG00000000457     n/a       chr1  169894267       SCYL3  169849631   \n",
       "ENSG00000000460     n/a       chr1  169854080    C1orf112  169662007   \n",
       "...                 ...        ...        ...         ...        ...   \n",
       "ENSG00000288611     n/a       chr8   52943734      NPBWR1   52939182   \n",
       "ENSG00000288612     n/a       chr6    3027426  AL133351.4    3023472   \n",
       "ENSG00000288632     n/a      chr16   29613717  AC133555.6   29442917   \n",
       "ENSG00000288642     n/a       chrX  140784366        CDR1  140783578   \n",
       "ENSG00000288643     n/a       chr5   62537249  AC114982.3   62306206   \n",
       "\n",
       "                 feature_is_filtered   feature_name feature_reference  \\\n",
       "ensembl_ids                                                             \n",
       "ENSG00000000003                False         TSPAN6    NCBITaxon:9606   \n",
       "ENSG00000000005                False           TNMD    NCBITaxon:9606   \n",
       "ENSG00000000419                False           DPM1    NCBITaxon:9606   \n",
       "ENSG00000000457                False          SCYL3    NCBITaxon:9606   \n",
       "ENSG00000000460                False       C1orf112    NCBITaxon:9606   \n",
       "...                              ...            ...               ...   \n",
       "ENSG00000288611                False         NPBWR1    NCBITaxon:9606   \n",
       "ENSG00000288612                False   RP1-90J20.15    NCBITaxon:9606   \n",
       "ENSG00000288632                False  RP11-345J4.11    NCBITaxon:9606   \n",
       "ENSG00000288642                False           CDR1    NCBITaxon:9606   \n",
       "ENSG00000288643                False   RP11-95I19.4    NCBITaxon:9606   \n",
       "\n",
       "                feature_biotype  n_cells  \n",
       "ensembl_ids                               \n",
       "ENSG00000000003            gene    30075  \n",
       "ENSG00000000005            gene      485  \n",
       "ENSG00000000419            gene   129625  \n",
       "ENSG00000000457            gene    97314  \n",
       "ENSG00000000460            gene    82343  \n",
       "...                         ...      ...  \n",
       "ENSG00000288611            gene      144  \n",
       "ENSG00000288612            gene    15576  \n",
       "ENSG00000288632            gene    77888  \n",
       "ENSG00000288642            gene     2092  \n",
       "ENSG00000288643            gene     9401  \n",
       "\n",
       "[42079 rows x 10 columns]"
      ]
     },
     "execution_count": 23,
     "metadata": {},
     "output_type": "execute_result"
    }
   ],
   "source": [
    "adata.var"
   ]
  },
  {
   "cell_type": "code",
   "execution_count": 24,
   "id": "a162d940-a08e-4f6b-87d7-204807bca637",
   "metadata": {},
   "outputs": [],
   "source": [
    "adata.var['ensembl_id'] = adata.var.index.tolist()"
   ]
  },
  {
   "cell_type": "code",
   "execution_count": 25,
   "id": "e94e7e16-3160-4044-ba43-ea8fa2289da0",
   "metadata": {},
   "outputs": [
    {
     "name": "stdout",
     "output_type": "stream",
     "text": [
      "Tokenizing /home/wangh256/G-scIB_dev/data/brain/GeneformerRaw/local.h5ad\n",
      "/home/wangh256/G-scIB_dev/data/brain/GeneformerRaw/local.h5ad has no column attribute 'filter_pass'; tokenizing all cells.\n",
      "Creating dataset.\n"
     ]
    },
    {
     "data": {
      "application/vnd.jupyter.widget-view+json": {
       "model_id": "632aeba3ea0047839cf932c15df79515",
       "version_major": 2,
       "version_minor": 0
      },
      "text/plain": [
       "Map (num_proc=16):   0%|          | 0/839273 [00:00<?, ? examples/s]"
      ]
     },
     "metadata": {},
     "output_type": "display_data"
    },
    {
     "data": {
      "application/vnd.jupyter.widget-view+json": {
       "model_id": "aa665b563ea445dfbb296cc7812ca822",
       "version_major": 2,
       "version_minor": 0
      },
      "text/plain": [
       "Map (num_proc=16):   0%|          | 0/839273 [00:00<?, ? examples/s]"
      ]
     },
     "metadata": {},
     "output_type": "display_data"
    },
    {
     "data": {
      "application/vnd.jupyter.widget-view+json": {
       "model_id": "0ce1ff9d488d48749805f301b08e29db",
       "version_major": 2,
       "version_minor": 0
      },
      "text/plain": [
       "Saving the dataset (0/6 shards):   0%|          | 0/839273 [00:00<?, ? examples/s]"
      ]
     },
     "metadata": {},
     "output_type": "display_data"
    }
   ],
   "source": [
    "os.makedirs(rf\"{DATA_DIR}/Geneformer\", exist_ok=True)\n",
    "os.makedirs(rf\"{DATA_DIR}/GeneformerRaw\", exist_ok=True)\n",
    "adata.write_h5ad(rf\"{DATA_DIR}/GeneformerRaw/local.h5ad\", compression=\"gzip\")\n",
    "\n",
    "tk = TranscriptomeTokenizer({}, nproc=16)\n",
    "tk.tokenize_data(rf\"{DATA_DIR}/GeneformerRaw\", \n",
    "                 rf\"{DATA_DIR}/Geneformer\", \n",
    "                 dataset, \n",
    "                 file_format=\"h5ad\")"
   ]
  },
  {
   "cell_type": "code",
   "execution_count": null,
   "id": "961c3ae7-ca4f-411d-94e6-424bed587b54",
   "metadata": {},
   "outputs": [],
   "source": []
  },
  {
   "cell_type": "code",
   "execution_count": null,
   "id": "f6b9a46e-09e6-4641-aa89-765dce778c17",
   "metadata": {},
   "outputs": [],
   "source": []
  },
  {
   "cell_type": "code",
   "execution_count": null,
   "id": "bd1a9e66-d69f-49fd-ac1e-5b882653c396",
   "metadata": {},
   "outputs": [],
   "source": []
  },
  {
   "cell_type": "code",
   "execution_count": null,
   "id": "3fe11426-f758-4886-b904-269fe25d3485",
   "metadata": {},
   "outputs": [],
   "source": []
  },
  {
   "cell_type": "code",
   "execution_count": null,
   "id": "0da2d53e-c8bc-44e7-8587-c2d770761890",
   "metadata": {},
   "outputs": [],
   "source": [
    "embex = EmbExtractor(model_type=\"Pretrained\",\n",
    "                     num_classes=0,\n",
    "                     max_ncells=None,\n",
    "                     forward_batch_size=128,\n",
    "                     nproc=16)\n",
    "\n",
    "embs = embex.extract_embs(\"/home/wangh256/GeneDataEngine_dev/Geneformer-main/geneformer-12L-30M\",\n",
    "                          rf\"{DATA_DIR}/Geneformer/Eye.dataset\",\n",
    "                          rf\"{DATA_DIR}/\",\n",
    "                          \"Geneformer\")"
   ]
  },
  {
   "cell_type": "code",
   "execution_count": 5,
   "id": "6ef56895-9e52-4a10-9bd2-004e9168eda5",
   "metadata": {},
   "outputs": [],
   "source": [
    "bdata = sc.read_h5ad(rf\"{DATA_DIR}/emb.h5ad\")\n",
    "bdata.obsm[\"Geneformer\"] = embs.values"
   ]
  },
  {
   "cell_type": "code",
   "execution_count": 6,
   "id": "29547d23-82d6-4ca1-ad42-d6e8562caa03",
   "metadata": {},
   "outputs": [],
   "source": [
    "bdata.write_h5ad(rf\"{DATA_DIR}/emb.h5ad\", compression=\"gzip\")"
   ]
  },
  {
   "cell_type": "code",
   "execution_count": 7,
   "id": "644678e7-d1f5-462f-9167-22f9e1fc537a",
   "metadata": {},
   "outputs": [
    {
     "data": {
      "text/plain": [
       "AxisArrays with keys: Harmony, Islander, Islander_UMAP, Scanorama, X_bbknn, X_pca, X_scANVI, X_scVI, X_tsne, X_umap, scPoli, Geneformer"
      ]
     },
     "execution_count": 7,
     "metadata": {},
     "output_type": "execute_result"
    }
   ],
   "source": [
    "bdata.obsm"
   ]
  },
  {
   "cell_type": "code",
   "execution_count": 10,
   "id": "3c5fe46c-41ff-4c89-90f0-d8201aa74276",
   "metadata": {},
   "outputs": [
    {
     "data": {
      "text/plain": [
       "(380078, 512)"
      ]
     },
     "execution_count": 10,
     "metadata": {},
     "output_type": "execute_result"
    }
   ],
   "source": [
    "bdata.obsm[\"Geneformer\"].shape"
   ]
  },
  {
   "cell_type": "code",
   "execution_count": null,
   "id": "02dfcae8-62ef-4121-a90a-00c5c38043da",
   "metadata": {},
   "outputs": [],
   "source": []
  }
 ],
 "metadata": {
  "kernelspec": {
   "display_name": "Geneformer",
   "language": "python",
   "name": "geneformer"
  },
  "language_info": {
   "codemirror_mode": {
    "name": "ipython",
    "version": 3
   },
   "file_extension": ".py",
   "mimetype": "text/x-python",
   "name": "python",
   "nbconvert_exporter": "python",
   "pygments_lexer": "ipython3",
   "version": "3.10.13"
  }
 },
 "nbformat": 4,
 "nbformat_minor": 5
}
